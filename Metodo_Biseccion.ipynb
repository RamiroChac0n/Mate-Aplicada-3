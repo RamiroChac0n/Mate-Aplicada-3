{
 "cells": [
  {
   "cell_type": "code",
   "execution_count": 13,
   "metadata": {},
   "outputs": [],
   "source": [
    "import numpy as np\n",
    "import matplotlib.pyplot as plt"
   ]
  },
  {
   "cell_type": "markdown",
   "metadata": {},
   "source": [
    "GRÁFICA"
   ]
  },
  {
   "cell_type": "code",
   "execution_count": null,
   "metadata": {},
   "outputs": [],
   "source": [
    "x = np.linspace(-2, -1, 100)\n",
    "plt.plot(x,-x**3 + 4*x**2 - 10) #x**3 + 4*x**2 - 10\n",
    "plt.plot(x,0*x,'k-')\n",
    "plt.grid()\n",
    "plt.show()"
   ]
  },
  {
   "cell_type": "markdown",
   "metadata": {},
   "source": [
    "MÉTODO BISECCIÓN PARA:\n",
    "f(a) = - NEGATIVO\n",
    "y \n",
    "f(b) = + POSITIVO"
   ]
  },
  {
   "cell_type": "code",
   "execution_count": null,
   "metadata": {},
   "outputs": [],
   "source": [
    "def f(x):\n",
    "    return -x**3 + 4*x**2 - 10 # Funcion\n",
    "\n",
    "limInf = -2\n",
    "limSup = -1\n",
    "limInfAux = 0\n",
    "limSupAux = 0\n",
    "aux =0\n",
    "raiz = 0\n",
    "contador = 0\n",
    "print(\"Iteraciones     Raiz     Error\")\n",
    "for iteration in range(1,15):\n",
    "    limInfAux = f(limInf)\n",
    "    limSupAux = f(limSup)\n",
    "    \n",
    "    if limInfAux < 0 and limSupAux > 0:\n",
    "        raiz = (limInf + limSup) / 2\n",
    "        aux = f(raiz)\n",
    "        if aux > 0:\n",
    "            limSup = raiz\n",
    "        elif aux < 0:\n",
    "            limInf = raiz\n",
    "    contador += 1\n",
    "    print('{0:2d} {1:18.10f} {2:12.10f}'.format(contador,raiz,limSup - limInf))"
   ]
  },
  {
   "cell_type": "markdown",
   "metadata": {},
   "source": [
    "MÉTODO BISECCIÓN PARA:\n",
    "f(a) = + POSITIVO\n",
    "y \n",
    "f(b) = - NEGATIVO"
   ]
  },
  {
   "cell_type": "code",
   "execution_count": null,
   "metadata": {},
   "outputs": [],
   "source": [
    "def f(x):\n",
    "    return -x**3 + 4*x**2 - 10 # Funcion\n",
    "\n",
    "limInf = -2\n",
    "limSup = -1\n",
    "limInfAux = 0\n",
    "limSupAux = 0\n",
    "aux =0\n",
    "raiz = 0\n",
    "contador = 0\n",
    "print(\"Iteraciones     Raiz     Error\")\n",
    "for iteration in range(1,15):\n",
    "    limInfAux = f(limInf)\n",
    "    limSupAux = f(limSup)\n",
    "    \n",
    "    if limSupAux < 0 and limInfAux > 0:\n",
    "        raiz = (limInf + limSup) / 2\n",
    "        aux = f(raiz)\n",
    "        if aux > 0:\n",
    "            limInf = raiz\n",
    "        elif aux < 0:\n",
    "            limSup = raiz\n",
    "    contador += 1\n",
    "    print('{0:2d} {1:18.10f} {2:12.10f}'.format(contador,raiz,limSup - limInf))"
   ]
  }
 ],
 "metadata": {
  "kernelspec": {
   "display_name": "Python 3.9.12 ('base')",
   "language": "python",
   "name": "python3"
  },
  "language_info": {
   "codemirror_mode": {
    "name": "ipython",
    "version": 3
   },
   "file_extension": ".py",
   "mimetype": "text/x-python",
   "name": "python",
   "nbconvert_exporter": "python",
   "pygments_lexer": "ipython3",
   "version": "3.9.12"
  },
  "orig_nbformat": 4,
  "vscode": {
   "interpreter": {
    "hash": "ea41660719dc7f69a5bd1b7d15885e2192f7a2bf4465b77a2a73e44a4a8c0b5b"
   }
  }
 },
 "nbformat": 4,
 "nbformat_minor": 2
}
