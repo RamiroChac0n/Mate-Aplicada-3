{
 "cells": [
  {
   "cell_type": "code",
   "execution_count": null,
   "metadata": {},
   "outputs": [],
   "source": [
    "import numpy as np\n",
    "import matplotlib.pyplot as plt"
   ]
  },
  {
   "cell_type": "code",
   "execution_count": 52,
   "metadata": {},
   "outputs": [
    {
     "data": {
      "image/png": "[encoded data removed]",
      "text/plain": [
       "<Figure size 432x288 with 1 Axes>"
      ]
     },
     "metadata": {
      "needs_background": "light"
     },
     "output_type": "display_data"
    }
   ],
   "source": [
    "x = np.linspace(-5, 5, 100)\n",
    "plt.plot(x,x**3 + 4*x**2 - 10)\n",
    "plt.plot(x,0*x,'k-')\n",
    "plt.grid()\n",
    "plt.show()"
   ]
  },
  {
   "cell_type": "code",
   "execution_count": 53,
   "metadata": {},
   "outputs": [
    {
     "name": "stdout",
     "output_type": "stream",
     "text": [
      "Iteraciones     Raiz     Error\n",
      " 1       1.5000000000 0.5000000000\n",
      " 2       1.2500000000 0.2500000000\n",
      " 3       1.3750000000 0.1250000000\n",
      " 4       1.3125000000 0.0625000000\n",
      " 5       1.3437500000 0.0312500000\n",
      " 6       1.3593750000 0.0156250000\n",
      " 7       1.3671875000 0.0078125000\n",
      " 8       1.3632812500 0.0039062500\n",
      " 9       1.3652343750 0.0019531250\n",
      "10       1.3642578125 0.0009765625\n",
      "11       1.3647460938 0.0004882812\n",
      "12       1.3649902344 0.0002441406\n",
      "13       1.3651123047 0.0001220703\n",
      "14       1.3651733398 0.0000610352\n"
     ]
    }
   ],
   "source": [
    "def f(x):\n",
    "    return x**3 + 4*x**2 - 10\n",
    "\n",
    "limInf = 1\n",
    "limSup = 2\n",
    "limInfAux = 0\n",
    "limSupAux = 0\n",
    "aux =0\n",
    "raiz = 0\n",
    "contador = 0\n",
    "print(\"Iteraciones     Raiz     Error\")\n",
    "for iteration in range(1,15):\n",
    "    limInfAux = f(limInf)\n",
    "    limSupAux = f(limSup)\n",
    "    \n",
    "    if limInfAux < 0 and limSupAux > 0:\n",
    "        raiz = (limInf + limSup) / 2\n",
    "        aux = f(raiz)\n",
    "        #print(raiz)\n",
    "        if aux > 0:\n",
    "            limSup = raiz\n",
    "        elif aux < 0:\n",
    "            limInf = raiz\n",
    "    contador += 1\n",
    "    print('{0:2d} {1:18.10f} {2:12.10f}'.format(contador,raiz,limSup - limInf))"
   ]
  }
 ],
 "metadata": {
  "kernelspec": {
   "display_name": "Python 3.9.12 ('base')",
   "language": "python",
   "name": "python3"
  },
  "language_info": {
   "codemirror_mode": {
    "name": "ipython",
    "version": 3
   },
   "file_extension": ".py",
   "mimetype": "text/x-python",
   "name": "python",
   "nbconvert_exporter": "python",
   "pygments_lexer": "ipython3",
   "version": "3.9.12"
  },
  "orig_nbformat": 4,
  "vscode": {
   "interpreter": {
    "hash": "ea41660719dc7f69a5bd1b7d15885e2192f7a2bf4465b77a2a73e44a4a8c0b5b"
   }
  }
 },
 "nbformat": 4,
 "nbformat_minor": 2
}
