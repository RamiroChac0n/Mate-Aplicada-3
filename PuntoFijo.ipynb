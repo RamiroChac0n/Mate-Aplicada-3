{
 "cells": [
  {
   "cell_type": "markdown",
   "metadata": {},
   "source": [
    "GRÁFICA"
   ]
  },
  {
   "cell_type": "code",
   "execution_count": null,
   "metadata": {},
   "outputs": [],
   "source": [
    "import numpy as np\n",
    "import matplotlib.pyplot as plt\n",
    "\n",
    "x = np.linspace(0,5,100)\n",
    "plt.plot(x,x*np.sin(3*x)-1/2)\n",
    "plt.plot(x,x*0,'-k')\n",
    "plt.grid()\n",
    "plt.show()"
   ]
  },
  {
   "cell_type": "markdown",
   "metadata": {},
   "source": [
    "TEST PARA PROBAR FUNCIONES"
   ]
  },
  {
   "cell_type": "code",
   "execution_count": 106,
   "metadata": {},
   "outputs": [
    {
     "name": "stdout",
     "output_type": "stream",
     "text": [
      "Valor usado     Raiz 1     Raiz 2     Resultado \n",
      "1                X                   74.56688085425625\n",
      "1                           O        0.19245008972987526\n",
      "2                X                   18.447543316299864\n",
      "2                           O        0.043033148291193514\n",
      "3                X                   8.046880291121632\n",
      "3                           O        0.0187812056606337\n",
      "4                X                   4.396439012217575\n",
      "4                           O        0.0104990131391452\n"
     ]
    }
   ],
   "source": [
    "from sympy import *\n",
    "x = Symbol('x')\n",
    "x1 = 1/(2*sin(3*x))\n",
    "x2 = asin(1/(2*x))/3\n",
    "derivadaX1 = diff(x1,x)\n",
    "derivadaX2 = diff(x2,x)\n",
    "\n",
    "funcion1 = lambdify(x,derivadaX1)\n",
    "funcion2 = lambdify(x,derivadaX2)\n",
    "\n",
    "raices = [1,2,3,4]\n",
    "print('{0:15s} {1:10s} {2:10s}'.format(\"Resultado\",\"X1\",\"X2\"))\n",
    "\n",
    "for raiz in raices:\n",
    "    if(abs(funcion1) <= 1):\n",
    "        print(\"hola\")"
   ]
  },
  {
   "cell_type": "markdown",
   "metadata": {},
   "source": [
    "MÉTODO DE PUNTO FIJO"
   ]
  },
  {
   "cell_type": "code",
   "execution_count": null,
   "metadata": {},
   "outputs": [],
   "source": [
    "import numpy as np"
   ]
  }
 ],
 "metadata": {
  "kernelspec": {
   "display_name": "Python 3.9.12 ('base')",
   "language": "python",
   "name": "python3"
  },
  "language_info": {
   "codemirror_mode": {
    "name": "ipython",
    "version": 3
   },
   "file_extension": ".py",
   "mimetype": "text/x-python",
   "name": "python",
   "nbconvert_exporter": "python",
   "pygments_lexer": "ipython3",
   "version": "3.9.12"
  },
  "orig_nbformat": 4,
  "vscode": {
   "interpreter": {
    "hash": "ea41660719dc7f69a5bd1b7d15885e2192f7a2bf4465b77a2a73e44a4a8c0b5b"
   }
  }
 },
 "nbformat": 4,
 "nbformat_minor": 2
}
