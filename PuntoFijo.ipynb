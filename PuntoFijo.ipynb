{
 "cells": [
  {
   "cell_type": "markdown",
   "metadata": {},
   "source": [
    "GRÁFICA"
   ]
  },
  {
   "cell_type": "code",
   "execution_count": null,
   "metadata": {},
   "outputs": [],
   "source": [
    "import numpy as np\n",
    "import matplotlib.pyplot as plt\n",
    "\n",
    "x = np.linspace(4,5,100)\n",
    "plt.plot(x,(x)**2*np.sin(20*(x)**(1/2))/x+x-np.log(x)-3/2)\n",
    "plt.plot(x,x*0,'-k')\n",
    "plt.grid()\n",
    "plt.show()"
   ]
  },
  {
   "cell_type": "markdown",
   "metadata": {},
   "source": [
    "FUNCIONES DE RAICES"
   ]
  },
  {
   "cell_type": "code",
   "execution_count": null,
   "metadata": {},
   "outputs": [],
   "source": [
    "from numpy import e\n",
    "from sympy import *\n",
    "\n",
    "\n",
    "(x)**2*sin(20*(x)**(1/2))/x+x-ln(x)-3/2"
   ]
  },
  {
   "cell_type": "markdown",
   "metadata": {},
   "source": [
    "DERIVADA DE LAS FUNCIONES DE RAICES"
   ]
  },
  {
   "cell_type": "code",
   "execution_count": null,
   "metadata": {},
   "outputs": [],
   "source": [
    "diff()"
   ]
  },
  {
   "cell_type": "markdown",
   "metadata": {},
   "source": [
    "TEST PARA PROBAR FUNCIONES"
   ]
  },
  {
   "cell_type": "code",
   "execution_count": null,
   "metadata": {},
   "outputs": [],
   "source": [
    "from sympy import *\n",
    "from numpy import e\n",
    "\n",
    "x = Symbol('x')\n",
    "x1 = ln(x) + 3/2 - x*sin(20*(x)**(1/2))\n",
    "x2 = -1*e**(3/2-x-x*sin(20*(x)**(1/2)))\n",
    "x3 = ((asin((3/2+ln(x)-x)/x))/20)**2\n",
    "x4 = sqrt((3/2+ln(x)-x)/sin(20*(x)**(1/2)))\n",
    "x5 = ((x)**2*sin(20*(x)**(1/2)))/(ln(x)+3/2-x)\n",
    "\n",
    "derivadaX1 = diff(x1,x)\n",
    "derivadaX2 = diff(x2,x)\n",
    "derivadaX3 = diff(x3,x)\n",
    "derivadaX4 = diff(x4,x)\n",
    "derivadaX5 = diff(x5,x)\n",
    "\n",
    "funcion1 = lambdify(x,derivadaX1)\n",
    "funcion2 = lambdify(x,derivadaX2)\n",
    "funcion3 = lambdify(x,derivadaX3)\n",
    "funcion4 = lambdify(x,derivadaX4)\n",
    "funcion5 = lambdify(x,derivadaX5)\n",
    "\n",
    "raices = [0.2,0.4,0.6,0.7,1.2,1.6,2,2.4,3,3.5,4.2]\n",
    "\n",
    "for raiz in raices:\n",
    "    print(\"                       RAIZ: \",raiz)\n",
    "    if(abs(funcion1(raiz)) <= 1):\n",
    "        print(f\"{abs(funcion1(raiz)):0.4f}\",\"----------->   X1\")\n",
    "    else:\n",
    "        print(f\"{abs(funcion1(raiz)):0.4f}\")\n",
    "\n",
    "    if(abs(funcion2(raiz)) <= 1):\n",
    "        print(f\"{abs(funcion2(raiz)):0.4f}\",\"----------->   X2\")\n",
    "    else:\n",
    "        print(f\"{abs(funcion2(raiz)):0.4f}\")   \n",
    "\n",
    "    if(abs(funcion3(raiz)) <= 1):\n",
    "        print(f\"{abs(funcion3(raiz)):0.4f}\",\"----------->   X3\")\n",
    "    else:\n",
    "        print(f\"{abs(funcion3(raiz)):0.4f}\")   \n",
    "\n",
    "    if(abs(funcion4(raiz)) <= 1):\n",
    "        print(f\"{abs(funcion4(raiz)):0.4f}\",\"----------->   X4\")\n",
    "    else:\n",
    "        print(f\"{abs(funcion4(raiz)):0.4f}\")   \n",
    "\n",
    "    if(abs(funcion5(raiz)) <= 1):\n",
    "        print(f\"{abs(funcion5(raiz)):0.4f}\",\"----------->   X5\")\n",
    "    else:\n",
    "        print(f\"{abs(funcion5(raiz)):0.4f}\")                   "
   ]
  },
  {
   "cell_type": "markdown",
   "metadata": {},
   "source": [
    "MÉTODO DE PUNTO FIJO"
   ]
  },
  {
   "cell_type": "code",
   "execution_count": null,
   "metadata": {},
   "outputs": [],
   "source": [
    "import numpy as np"
   ]
  }
 ],
 "metadata": {
  "kernelspec": {
   "display_name": "Python 3.9.12 ('base')",
   "language": "python",
   "name": "python3"
  },
  "language_info": {
   "codemirror_mode": {
    "name": "ipython",
    "version": 3
   },
   "file_extension": ".py",
   "mimetype": "text/x-python",
   "name": "python",
   "nbconvert_exporter": "python",
   "pygments_lexer": "ipython3",
   "version": "3.9.12"
  },
  "orig_nbformat": 4,
  "vscode": {
   "interpreter": {
    "hash": "ea41660719dc7f69a5bd1b7d15885e2192f7a2bf4465b77a2a73e44a4a8c0b5b"
   }
  }
 },
 "nbformat": 4,
 "nbformat_minor": 2
}
