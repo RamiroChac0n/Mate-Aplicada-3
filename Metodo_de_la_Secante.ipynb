{
 "cells": [
  {
   "cell_type": "code",
   "execution_count": null,
   "metadata": {},
   "outputs": [],
   "source": [
    "import numpy as np\n",
    "import matplotlib.pyplot as plt"
   ]
  },
  {
   "cell_type": "markdown",
   "metadata": {},
   "source": [
    "GRÁFICA"
   ]
  },
  {
   "cell_type": "code",
   "execution_count": null,
   "metadata": {},
   "outputs": [],
   "source": [
    "from numpy import e, pi\n",
    "import numpy as np\n",
    "\n",
    "\n",
    "x = np.linspace(0, 1, 100)\n",
    "plt.plot(x,((x**2)*np.sin(20*x**(1/2)))/x + x - np.log(x) - 3/2) # Funcion\n",
    "plt.plot(x,0*x,'k-')\n",
    "plt.grid()\n",
    "plt.show()"
   ]
  },
  {
   "cell_type": "markdown",
   "metadata": {},
   "source": [
    "MÉTODO DE LA SECANTE"
   ]
  },
  {
   "cell_type": "code",
   "execution_count": null,
   "metadata": {},
   "outputs": [],
   "source": [
    "from numpy import pi\n",
    "import numpy as np\n",
    "\n",
    "\n",
    "def f(x):\n",
    "    return ((x**2)*np.sin(20*x**(1/2)))/x + x - np.log(x) - 3/2  # Funcion\n",
    "\n",
    "x0 = 0.2                    # Limite inferior\n",
    "x1 = 0.3                   # Limite superior\n",
    "limX0 = 0\n",
    "limX1 = 0\n",
    "aux =0\n",
    "xC = 0\n",
    "iterador = 0\n",
    "iteracionesToleradas = 50       # Limite de iteraciones\n",
    "error = x1 - x0\n",
    "tolerancia = 0                  # Tolerncia\n",
    "print(\"Iteraciones     Raiz     Error\")\n",
    "while (error > tolerancia and iterador < iteracionesToleradas):\n",
    "    limX0 = f(x0)\n",
    "    limX1 = f(x1)\n",
    "    \n",
    "    if limX0 < 0 and limX1 > 0:\n",
    "        xC = x0 - f(x0)*(x1-x0)/(f(x1)-f(x0))\n",
    "        aux = f(xC)\n",
    "        if aux > 0:\n",
    "            x1 = xC\n",
    "        elif aux < 0:\n",
    "            x0 = xC\n",
    "    elif limX1 < 0 and limX0 > 0:\n",
    "        xC = (x0 + x1) / 2\n",
    "        aux = f(xC)\n",
    "        if aux > 0:\n",
    "            x0 = xC\n",
    "        elif aux < 0:\n",
    "            x1 = xC\n",
    "    iterador += 1\n",
    "    error = x1 - x0\n",
    "    print('{0:2d} {1:18.15f} {2:12.15f}'.format(iterador,xC,error))"
   ]
  }
 ],
 "metadata": {
  "kernelspec": {
   "display_name": "Python 3.9.12 ('base')",
   "language": "python",
   "name": "python3"
  },
  "language_info": {
   "codemirror_mode": {
    "name": "ipython",
    "version": 3
   },
   "file_extension": ".py",
   "mimetype": "text/x-python",
   "name": "python",
   "nbconvert_exporter": "python",
   "pygments_lexer": "ipython3",
   "version": "3.9.12"
  },
  "orig_nbformat": 4,
  "vscode": {
   "interpreter": {
    "hash": "ea41660719dc7f69a5bd1b7d15885e2192f7a2bf4465b77a2a73e44a4a8c0b5b"
   }
  }
 },
 "nbformat": 4,
 "nbformat_minor": 2
}
