{
 "cells": [
  {
   "cell_type": "code",
   "execution_count": 1,
   "metadata": {},
   "outputs": [],
   "source": [
    "import numpy as np\n",
    "import matplotlib.pyplot as plt"
   ]
  },
  {
   "cell_type": "markdown",
   "metadata": {},
   "source": [
    "GRÁFICA"
   ]
  },
  {
   "cell_type": "code",
   "execution_count": 2,
   "metadata": {},
   "outputs": [
    {
     "name": "stderr",
     "output_type": "stream",
     "text": [
      "C:\\Users\\ramir\\AppData\\Local\\Temp\\ipykernel_13404\\1992191834.py:6: RuntimeWarning: invalid value encountered in true_divide\n",
      "  plt.plot(x,((x**2)*np.sin(20*x**(1/2)))/x + x - np.log(x) - 3/2) # Funcion\n",
      "C:\\Users\\ramir\\AppData\\Local\\Temp\\ipykernel_13404\\1992191834.py:6: RuntimeWarning: divide by zero encountered in log\n",
      "  plt.plot(x,((x**2)*np.sin(20*x**(1/2)))/x + x - np.log(x) - 3/2) # Funcion\n"
     ]
    },
    {
     "data": {
      "image/png": "[encoded data removed]",
      "text/plain": [
       "<Figure size 432x288 with 1 Axes>"
      ]
     },
     "metadata": {
      "needs_background": "light"
     },
     "output_type": "display_data"
    }
   ],
   "source": [
    "from numpy import e, pi\n",
    "import numpy as np\n",
    "\n",
    "\n",
    "x = np.linspace(0, 1, 100)\n",
    "plt.plot(x,((x**2)*np.sin(20*x**(1/2)))/x + x - np.log(x) - 3/2) # Funcion\n",
    "plt.plot(x,0*x,'k-')\n",
    "plt.grid()\n",
    "plt.show()"
   ]
  },
  {
   "cell_type": "markdown",
   "metadata": {},
   "source": [
    "MÉTODO DE LA SECANTE"
   ]
  },
  {
   "cell_type": "code",
   "execution_count": null,
   "metadata": {},
   "outputs": [],
   "source": [
    "from numpy import pi\n",
    "import numpy as np\n",
    "\n",
    "\n",
    "def f(x):\n",
    "    return ((x**2)*np.sin(20*x**(1/2)))/x + x - np.log(x) - 3/2  # Funcion\n",
    "\n",
    "limInf = 0.2                    # Limite inferior\n",
    "limSup = 0.3                   # Limite superior\n",
    "limInfAux = 0\n",
    "limSupAux = 0\n",
    "aux =0\n",
    "raiz = 0\n",
    "iterador = 0\n",
    "iteracionesToleradas = 50       # Limite de iteraciones\n",
    "error = limSup - limInf\n",
    "tolerancia = 0                  # Tolerncia\n",
    "print(\"Iteraciones     Raiz     Error\")\n",
    "while (error > tolerancia and iterador < iteracionesToleradas):\n",
    "    limInfAux = f(limInf)\n",
    "    limSupAux = f(limSup)\n",
    "    \n",
    "    if limInfAux < 0 and limSupAux > 0:\n",
    "        raiz = (limInf + limSup) / 2\n",
    "        aux = f(raiz)\n",
    "        if aux > 0:\n",
    "            limSup = raiz\n",
    "        elif aux < 0:\n",
    "            limInf = raiz\n",
    "    elif limSupAux < 0 and limInfAux > 0:\n",
    "        raiz = (limInf + limSup) / 2\n",
    "        aux = f(raiz)\n",
    "        if aux > 0:\n",
    "            limInf = raiz\n",
    "        elif aux < 0:\n",
    "            limSup = raiz\n",
    "    iterador += 1\n",
    "    error = limSup - limInf\n",
    "    print('{0:2d} {1:18.15f} {2:12.15f}'.format(iterador,raiz,error))"
   ]
  }
 ],
 "metadata": {
  "kernelspec": {
   "display_name": "Python 3.9.12 ('base')",
   "language": "python",
   "name": "python3"
  },
  "language_info": {
   "codemirror_mode": {
    "name": "ipython",
    "version": 3
   },
   "file_extension": ".py",
   "mimetype": "text/x-python",
   "name": "python",
   "nbconvert_exporter": "python",
   "pygments_lexer": "ipython3",
   "version": "3.9.12"
  },
  "orig_nbformat": 4,
  "vscode": {
   "interpreter": {
    "hash": "ea41660719dc7f69a5bd1b7d15885e2192f7a2bf4465b77a2a73e44a4a8c0b5b"
   }
  }
 },
 "nbformat": 4,
 "nbformat_minor": 2
}
