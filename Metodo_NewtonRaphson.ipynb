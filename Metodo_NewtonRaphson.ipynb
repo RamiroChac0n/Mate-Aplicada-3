{
 "cells": [
  {
   "cell_type": "code",
   "execution_count": null,
   "metadata": {},
   "outputs": [],
   "source": [
    "import numpy as np\n",
    "import matplotlib.pyplot as plt"
   ]
  },
  {
   "cell_type": "markdown",
   "metadata": {},
   "source": [
    "GRÁFICA"
   ]
  },
  {
   "cell_type": "code",
   "execution_count": null,
   "metadata": {},
   "outputs": [],
   "source": [
    "x = np.linspace(-2,2,100)\n",
    "plt.plot(x,-x**3 + 4*x**2 - 10)\n",
    "plt.plot(x,x*0,'-k')\n",
    "plt.grid()\n",
    "plt.show()"
   ]
  },
  {
   "cell_type": "markdown",
   "metadata": {},
   "source": [
    "MÉTODO NEWTON-RAPHSON"
   ]
  },
  {
   "cell_type": "code",
   "execution_count": null,
   "metadata": {},
   "outputs": [],
   "source": [
    "import numpy as np\n",
    "\n",
    "\n",
    "def f(x):\n",
    "    return -x**3 + 4*x**2 - 10  # Funcion\n",
    "\n",
    "def Df(x):\n",
    "    return -3*x**2+8*x          # Derivada de la funcion\n",
    "\n",
    "iterador = 0\n",
    "x0 = -1                         # Inicio\n",
    "xc = 0  \n",
    "error = np.abs(x0 - xc) \n",
    "tolerancia = 0 \n",
    "iteracionesToleradas = 50                 \n",
    "print(\"Iteraciones     Raiz     Error\")\n",
    "while (error >= tolerancia and iterador < iteracionesToleradas):\n",
    "    xc = x0 - f(x0) / Df(x0)    # Método de Newton-Raphson \n",
    "    error = np.abs(x0 - xc)\n",
    "    x0 = xc\n",
    "    iterador += 1\n",
    "    print('{0:2d} {1:18.10f} {2:12.25f}'.format(iterador,xc,error))"
   ]
  }
 ],
 "metadata": {
  "kernelspec": {
   "display_name": "Python 3.9.12 ('base')",
   "language": "python",
   "name": "python3"
  },
  "language_info": {
   "codemirror_mode": {
    "name": "ipython",
    "version": 3
   },
   "file_extension": ".py",
   "mimetype": "text/x-python",
   "name": "python",
   "nbconvert_exporter": "python",
   "pygments_lexer": "ipython3",
   "version": "3.9.12"
  },
  "orig_nbformat": 4,
  "vscode": {
   "interpreter": {
    "hash": "ea41660719dc7f69a5bd1b7d15885e2192f7a2bf4465b77a2a73e44a4a8c0b5b"
   }
  }
 },
 "nbformat": 4,
 "nbformat_minor": 2
}
