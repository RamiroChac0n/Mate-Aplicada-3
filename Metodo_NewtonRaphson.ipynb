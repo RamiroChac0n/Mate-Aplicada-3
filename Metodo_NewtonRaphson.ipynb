{
 "cells": [
  {
   "cell_type": "code",
   "execution_count": 3,
   "metadata": {},
   "outputs": [],
   "source": [
    "import numpy as np\n",
    "import matplotlib.pyplot as plt"
   ]
  },
  {
   "cell_type": "markdown",
   "metadata": {},
   "source": [
    "GRÁFICA"
   ]
  },
  {
   "cell_type": "code",
   "execution_count": 12,
   "metadata": {},
   "outputs": [
    {
     "data": {
      "image/png": "[encoded data removed]",
      "text/plain": [
       "<Figure size 432x288 with 1 Axes>"
      ]
     },
     "metadata": {
      "needs_background": "light"
     },
     "output_type": "display_data"
    }
   ],
   "source": [
    "x = np.linspace(-5,5,100)\n",
    "plt.plot(x,-x**3 + 4*x**2 - 10)\n",
    "plt.plot(x,x*0,'-k')\n",
    "plt.grid()\n",
    "plt.show()"
   ]
  },
  {
   "cell_type": "markdown",
   "metadata": {},
   "source": [
    "MÉTODO NEWTON-RAPHSON"
   ]
  },
  {
   "cell_type": "code",
   "execution_count": 15,
   "metadata": {},
   "outputs": [
    {
     "name": "stdout",
     "output_type": "stream",
     "text": [
      "-1.5\n",
      "-1.3733333333333333\n",
      "-1.3652620148746266\n",
      "-1.3652300139161466\n",
      "-1.3652300134140969\n"
     ]
    }
   ],
   "source": [
    "import numpy as np\n",
    "\n",
    "\n",
    "def f(x):\n",
    "    return -x**3 + 4*x**2 - 10 # Funcion\n",
    "\n",
    "def Df(x):\n",
    "    return -3*x**2+8*x          # Derivada de la funcion\n",
    "\n",
    "x0 = -2                     # Inicio\n",
    "xc = 0  \n",
    "error = np.abs(x0 - xc) \n",
    "tolerancia = 0                  \n",
    "\n",
    "for iterartion in range(1,6):\n",
    "    xc = x0 - f(x0) / Df(x0)  # Método de Newton-Raphson \n",
    "    x0 = xc\n",
    "    print(x0)"
   ]
  }
 ],
 "metadata": {
  "kernelspec": {
   "display_name": "Python 3.9.12 ('base')",
   "language": "python",
   "name": "python3"
  },
  "language_info": {
   "codemirror_mode": {
    "name": "ipython",
    "version": 3
   },
   "file_extension": ".py",
   "mimetype": "text/x-python",
   "name": "python",
   "nbconvert_exporter": "python",
   "pygments_lexer": "ipython3",
   "version": "3.9.12"
  },
  "orig_nbformat": 4,
  "vscode": {
   "interpreter": {
    "hash": "ea41660719dc7f69a5bd1b7d15885e2192f7a2bf4465b77a2a73e44a4a8c0b5b"
   }
  }
 },
 "nbformat": 4,
 "nbformat_minor": 2
}
