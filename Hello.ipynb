{
 "cells": [
  {
   "cell_type": "code",
   "execution_count": null,
   "metadata": {},
   "outputs": [],
   "source": [
    "print(\"Hello world\")"
   ]
  },
  {
   "cell_type": "code",
   "execution_count": null,
   "metadata": {},
   "outputs": [],
   "source": [
    "import numpy as np"
   ]
  },
  {
   "cell_type": "code",
   "execution_count": null,
   "metadata": {},
   "outputs": [],
   "source": [
    "import matplotlib.pyplot as plt\n",
    "from scipy.stats import norm\n",
    "%matplotlib inline"
   ]
  },
  {
   "cell_type": "code",
   "execution_count": null,
   "metadata": {},
   "outputs": [],
   "source": [
    "mu = 998.8\n",
    "sigma = 73.10"
   ]
  },
  {
   "cell_type": "code",
   "execution_count": null,
   "metadata": {},
   "outputs": [],
   "source": [
    "x1=980\n",
    "x2=1020"
   ]
  },
  {
   "cell_type": "code",
   "execution_count": null,
   "metadata": {},
   "outputs": [],
   "source": [
    "z1=(x1-mu)/sigma\n",
    "z2=(x2-mu)/sigma\n",
    "print(z1,z2)"
   ]
  },
  {
   "cell_type": "code",
   "execution_count": null,
   "metadata": {},
   "outputs": [],
   "source": [
    "x=np.arange(z1,z2,0.0001)\n",
    "x2=np.arange(-10,10,0.0001)\n",
    "y=norm.pdf(x,0,1)\n",
    "y2=norm.pdf(x2,0,1)\n",
    "fig,ax=plt.subplots(figsize=(9,6))\n",
    "plt.style.use(\"fivethirtyeight\")\n",
    "ax.plot(x2,y2)\n",
    "ax.fill_between(x,y,0,color=\"b\")\n",
    "ax.fill_between(x2,y2,0,alpha=0.1)\n",
    "ax.set_xlim([-4,4])\n",
    "ax.set_xlabel(\"numero de elementos fuera del problema\") \n",
    "ax.set_title(\"Curva gaussiana o distr. normal\")\n",
    "plt.savefig(\"gausiana.png\")\n",
    "plt.show()"
   ]
  }
 ],
 "metadata": {
  "kernelspec": {
   "display_name": "Python 3.10.4 64-bit",
   "language": "python",
   "name": "python3"
  },
  "language_info": {
   "codemirror_mode": {
    "name": "ipython",
    "version": 3
   },
   "file_extension": ".py",
   "mimetype": "text/x-python",
   "name": "python",
   "nbconvert_exporter": "python",
   "pygments_lexer": "ipython3",
   "version": "3.10.4"
  },
  "orig_nbformat": 4,
  "vscode": {
   "interpreter": {
    "hash": "eebde931c0e338eedc4bcfcfb4174386194d1b5c4b62322dd7000902b99a59fb"
   }
  }
 },
 "nbformat": 4,
 "nbformat_minor": 2
}
